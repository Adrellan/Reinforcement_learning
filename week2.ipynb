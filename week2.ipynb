{
 "cells": [
  {
   "cell_type": "code",
   "execution_count": 67,
   "metadata": {},
   "outputs": [],
   "source": [
    "import numpy as np\n",
    "import random\n",
    "from tqdm.notebook import tqdm\n",
    "\n",
    "N_BANDITS = 3\n",
    "N_EPISODES = 100\n",
    "N_MAX_STEPS_PER_EPISODE = 1000\n",
    "\n",
    "SIGNAL_WIN = 0\n",
    "SIGNAL_LOST = 1\n",
    "\n",
    "SEED = 0\n",
    "\n",
    "random.seed(SEED)\n",
    "np.random.seed(SEED)"
   ]
  },
  {
   "cell_type": "code",
   "execution_count": 68,
   "metadata": {},
   "outputs": [],
   "source": [
    "class BanditEnviroment:\n",
    "    def __init__(self, n_bandits):\n",
    "        self.n_bandits = n_bandits\n",
    "\n",
    "        self.bandits = [random.randint(0,20) / 100 for b in range(self.n_bandits)]\n",
    "\n",
    "        self.bandits[random.randint(0,n_bandits-1)]\n",
    "\n",
    "        print(self.bandits)\n",
    "    \n",
    "    def reset(self):\n",
    "        return 0\n",
    "    \n",
    "    def step(self, action):\n",
    "        p_win = self.bandits[action]\n",
    "\n",
    "        pull_result = np.random.choice([SIGNAL_WIN, SIGNAL_LOST], 1, p=[p_win, 1-p_win])[0]\n",
    "\n",
    "        if pull_result == SIGNAL_WIN:\n",
    "            reward = +1\n",
    "        else:\n",
    "            reward = 0\n",
    "\n",
    "        new_state = 0\n",
    "        done = False\n",
    "\n",
    "        return new_state, reward, done\n",
    "\n",
    "    \n"
   ]
  },
  {
   "cell_type": "code",
   "execution_count": 69,
   "metadata": {},
   "outputs": [
    {
     "name": "stdout",
     "output_type": "stream",
     "text": [
      "1\n",
      "1\n",
      "0\n",
      "1\n"
     ]
    }
   ],
   "source": [
    "class RandomAgent:\n",
    "    def __init__(self, n_actions):\n",
    "        self.n_actions = n_actions\n",
    "\n",
    "    def act(self, state):\n",
    "        return random.randint(0, self.n_actions-1)\n",
    "    \n",
    "agent = RandomAgent(n_actions=N_BANDITS)\n",
    "print(agent.act(0))\n",
    "print(agent.act(0))\n",
    "print(agent.act(0))\n",
    "print(agent.act(0))"
   ]
  },
  {
   "cell_type": "code",
   "execution_count": 91,
   "metadata": {},
   "outputs": [
    {
     "name": "stdout",
     "output_type": "stream",
     "text": [
      "[0.06, 0.05, 0.01]\n"
     ]
    },
    {
     "data": {
      "text/plain": [
       "(0, 0, False)"
      ]
     },
     "execution_count": 91,
     "metadata": {},
     "output_type": "execute_result"
    }
   ],
   "source": [
    "env = BanditEnviroment(n_bandits=3)\n",
    "\n",
    "action = 2\n",
    "env.step(action)"
   ]
  }
 ],
 "metadata": {
  "kernelspec": {
   "display_name": "base",
   "language": "python",
   "name": "python3"
  },
  "language_info": {
   "codemirror_mode": {
    "name": "ipython",
    "version": 3
   },
   "file_extension": ".py",
   "mimetype": "text/x-python",
   "name": "python",
   "nbconvert_exporter": "python",
   "pygments_lexer": "ipython3",
   "version": "3.11.4"
  },
  "orig_nbformat": 4
 },
 "nbformat": 4,
 "nbformat_minor": 2
}
